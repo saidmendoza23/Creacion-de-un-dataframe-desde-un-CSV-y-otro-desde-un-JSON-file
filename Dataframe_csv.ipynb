{
 "cells": [
  {
   "cell_type": "code",
   "execution_count": 2,
   "id": "37d2bed1",
   "metadata": {},
   "outputs": [],
   "source": [
    "import pandas as pd\n"
   ]
  },
  {
   "cell_type": "code",
   "execution_count": 4,
   "id": "0f16f52c",
   "metadata": {},
   "outputs": [],
   "source": [
    "df = pd.read_csv(\"MOD_DATA.csv\")"
   ]
  },
  {
   "cell_type": "code",
   "execution_count": 5,
   "id": "4884118e",
   "metadata": {},
   "outputs": [
    {
     "data": {
      "text/html": [
       "<div>\n",
       "<style scoped>\n",
       "    .dataframe tbody tr th:only-of-type {\n",
       "        vertical-align: middle;\n",
       "    }\n",
       "\n",
       "    .dataframe tbody tr th {\n",
       "        vertical-align: top;\n",
       "    }\n",
       "\n",
       "    .dataframe thead th {\n",
       "        text-align: right;\n",
       "    }\n",
       "</style>\n",
       "<table border=\"1\" class=\"dataframe\">\n",
       "  <thead>\n",
       "    <tr style=\"text-align: right;\">\n",
       "      <th></th>\n",
       "      <th>id</th>\n",
       "      <th>modelo</th>\n",
       "      <th>color</th>\n",
       "      <th>marca</th>\n",
       "    </tr>\n",
       "  </thead>\n",
       "  <tbody>\n",
       "    <tr>\n",
       "      <th>0</th>\n",
       "      <td>1C4PJLAB5EW037286</td>\n",
       "      <td>2001</td>\n",
       "      <td>Green</td>\n",
       "      <td>Dodge</td>\n",
       "    </tr>\n",
       "    <tr>\n",
       "      <th>1</th>\n",
       "      <td>WAU4FAFR2DA100139</td>\n",
       "      <td>1999</td>\n",
       "      <td>Indigo</td>\n",
       "      <td>Dodge</td>\n",
       "    </tr>\n",
       "    <tr>\n",
       "      <th>2</th>\n",
       "      <td>1G6DF8E5XD0539625</td>\n",
       "      <td>2010</td>\n",
       "      <td>Violet</td>\n",
       "      <td>Toyota</td>\n",
       "    </tr>\n",
       "    <tr>\n",
       "      <th>3</th>\n",
       "      <td>1N6AA0CJ2FN799519</td>\n",
       "      <td>1999</td>\n",
       "      <td>Mauv</td>\n",
       "      <td>Plymouth</td>\n",
       "    </tr>\n",
       "    <tr>\n",
       "      <th>4</th>\n",
       "      <td>1GYS4KEF8DR451419</td>\n",
       "      <td>2010</td>\n",
       "      <td>Puce</td>\n",
       "      <td>Lexus</td>\n",
       "    </tr>\n",
       "    <tr>\n",
       "      <th>5</th>\n",
       "      <td>WAUBH78EX8A730057</td>\n",
       "      <td>1993</td>\n",
       "      <td>Blue</td>\n",
       "      <td>Mercedes-Benz</td>\n",
       "    </tr>\n",
       "    <tr>\n",
       "      <th>6</th>\n",
       "      <td>WBAYB6C58FD628233</td>\n",
       "      <td>1984</td>\n",
       "      <td>Blue</td>\n",
       "      <td>Maserati</td>\n",
       "    </tr>\n",
       "    <tr>\n",
       "      <th>7</th>\n",
       "      <td>1FTEW1CWXAK810636</td>\n",
       "      <td>1996</td>\n",
       "      <td>Indigo</td>\n",
       "      <td>Pontiac</td>\n",
       "    </tr>\n",
       "    <tr>\n",
       "      <th>8</th>\n",
       "      <td>WAUEFAFL5CN254707</td>\n",
       "      <td>2007</td>\n",
       "      <td>Goldenrod</td>\n",
       "      <td>Mazda</td>\n",
       "    </tr>\n",
       "    <tr>\n",
       "      <th>9</th>\n",
       "      <td>1C3CCBAB8DN062422</td>\n",
       "      <td>1991</td>\n",
       "      <td>Khaki</td>\n",
       "      <td>Pontiac</td>\n",
       "    </tr>\n",
       "  </tbody>\n",
       "</table>\n",
       "</div>"
      ],
      "text/plain": [
       "                  id  modelo      color          marca\n",
       "0  1C4PJLAB5EW037286    2001      Green          Dodge\n",
       "1  WAU4FAFR2DA100139    1999     Indigo          Dodge\n",
       "2  1G6DF8E5XD0539625    2010     Violet         Toyota\n",
       "3  1N6AA0CJ2FN799519    1999       Mauv       Plymouth\n",
       "4  1GYS4KEF8DR451419    2010       Puce          Lexus\n",
       "5  WAUBH78EX8A730057    1993       Blue  Mercedes-Benz\n",
       "6  WBAYB6C58FD628233    1984       Blue       Maserati\n",
       "7  1FTEW1CWXAK810636    1996     Indigo        Pontiac\n",
       "8  WAUEFAFL5CN254707    2007  Goldenrod          Mazda\n",
       "9  1C3CCBAB8DN062422    1991      Khaki        Pontiac"
      ]
     },
     "execution_count": 5,
     "metadata": {},
     "output_type": "execute_result"
    }
   ],
   "source": [
    "df"
   ]
  },
  {
   "cell_type": "code",
   "execution_count": 6,
   "id": "c2b19d24",
   "metadata": {},
   "outputs": [
    {
     "data": {
      "text/plain": [
       "(10, 4)"
      ]
     },
     "execution_count": 6,
     "metadata": {},
     "output_type": "execute_result"
    }
   ],
   "source": [
    "df.shape\n"
   ]
  },
  {
   "cell_type": "code",
   "execution_count": 11,
   "id": "d55426f9",
   "metadata": {},
   "outputs": [],
   "source": [
    "rows, columns = df.shape"
   ]
  },
  {
   "cell_type": "code",
   "execution_count": 12,
   "id": "8efa8390",
   "metadata": {},
   "outputs": [
    {
     "data": {
      "text/plain": [
       "4"
      ]
     },
     "execution_count": 12,
     "metadata": {},
     "output_type": "execute_result"
    }
   ],
   "source": [
    "columns"
   ]
  },
  {
   "cell_type": "code",
   "execution_count": 13,
   "id": "74ea9167",
   "metadata": {},
   "outputs": [
    {
     "name": "stdout",
     "output_type": "stream",
     "text": [
      "<class 'pandas.core.frame.DataFrame'>\n",
      "RangeIndex: 10 entries, 0 to 9\n",
      "Data columns (total 4 columns):\n",
      " #   Column  Non-Null Count  Dtype \n",
      "---  ------  --------------  ----- \n",
      " 0   id      10 non-null     object\n",
      " 1   modelo  10 non-null     int64 \n",
      " 2   color   10 non-null     object\n",
      " 3   marca   10 non-null     object\n",
      "dtypes: int64(1), object(3)\n",
      "memory usage: 448.0+ bytes\n"
     ]
    }
   ],
   "source": [
    "df.info()"
   ]
  },
  {
   "cell_type": "code",
   "execution_count": 14,
   "id": "9cd6a898",
   "metadata": {},
   "outputs": [
    {
     "data": {
      "text/plain": [
       "array([['1C4PJLAB5EW037286', 2001, 'Green', 'Dodge'],\n",
       "       ['WAU4FAFR2DA100139', 1999, 'Indigo', 'Dodge'],\n",
       "       ['1G6DF8E5XD0539625', 2010, 'Violet', 'Toyota'],\n",
       "       ['1N6AA0CJ2FN799519', 1999, 'Mauv', 'Plymouth'],\n",
       "       ['1GYS4KEF8DR451419', 2010, 'Puce', 'Lexus'],\n",
       "       ['WAUBH78EX8A730057', 1993, 'Blue', 'Mercedes-Benz'],\n",
       "       ['WBAYB6C58FD628233', 1984, 'Blue', 'Maserati'],\n",
       "       ['1FTEW1CWXAK810636', 1996, 'Indigo', 'Pontiac'],\n",
       "       ['WAUEFAFL5CN254707', 2007, 'Goldenrod', 'Mazda'],\n",
       "       ['1C3CCBAB8DN062422', 1991, 'Khaki', 'Pontiac']], dtype=object)"
      ]
     },
     "execution_count": 14,
     "metadata": {},
     "output_type": "execute_result"
    }
   ],
   "source": [
    "df.values"
   ]
  },
  {
   "cell_type": "code",
   "execution_count": 15,
   "id": "dd20b16d",
   "metadata": {},
   "outputs": [
    {
     "data": {
      "text/plain": [
       "RangeIndex(start=0, stop=10, step=1)"
      ]
     },
     "execution_count": 15,
     "metadata": {},
     "output_type": "execute_result"
    }
   ],
   "source": [
    "df.index"
   ]
  },
  {
   "cell_type": "code",
   "execution_count": 17,
   "id": "68c91737",
   "metadata": {},
   "outputs": [
    {
     "data": {
      "text/plain": [
       "0            Dodge\n",
       "1            Dodge\n",
       "2           Toyota\n",
       "3         Plymouth\n",
       "4            Lexus\n",
       "5    Mercedes-Benz\n",
       "6         Maserati\n",
       "7          Pontiac\n",
       "8            Mazda\n",
       "9          Pontiac\n",
       "Name: marca, dtype: object"
      ]
     },
     "execution_count": 17,
     "metadata": {},
     "output_type": "execute_result"
    }
   ],
   "source": [
    "df[\"marca\"]"
   ]
  },
  {
   "cell_type": "code",
   "execution_count": 18,
   "id": "289f99b8",
   "metadata": {},
   "outputs": [
    {
     "data": {
      "text/plain": [
       "0     True\n",
       "1    False\n",
       "2     True\n",
       "3    False\n",
       "4     True\n",
       "5    False\n",
       "6    False\n",
       "7    False\n",
       "8     True\n",
       "9    False\n",
       "Name: modelo, dtype: bool"
      ]
     },
     "execution_count": 18,
     "metadata": {},
     "output_type": "execute_result"
    }
   ],
   "source": [
    "df[\"modelo\"]>1999"
   ]
  },
  {
   "cell_type": "code",
   "execution_count": 19,
   "id": "b1c47b6a",
   "metadata": {},
   "outputs": [
    {
     "data": {
      "text/html": [
       "<div>\n",
       "<style scoped>\n",
       "    .dataframe tbody tr th:only-of-type {\n",
       "        vertical-align: middle;\n",
       "    }\n",
       "\n",
       "    .dataframe tbody tr th {\n",
       "        vertical-align: top;\n",
       "    }\n",
       "\n",
       "    .dataframe thead th {\n",
       "        text-align: right;\n",
       "    }\n",
       "</style>\n",
       "<table border=\"1\" class=\"dataframe\">\n",
       "  <thead>\n",
       "    <tr style=\"text-align: right;\">\n",
       "      <th></th>\n",
       "      <th>id</th>\n",
       "      <th>modelo</th>\n",
       "      <th>color</th>\n",
       "      <th>marca</th>\n",
       "    </tr>\n",
       "  </thead>\n",
       "  <tbody>\n",
       "    <tr>\n",
       "      <th>0</th>\n",
       "      <td>1C4PJLAB5EW037286</td>\n",
       "      <td>2001</td>\n",
       "      <td>Green</td>\n",
       "      <td>Dodge</td>\n",
       "    </tr>\n",
       "    <tr>\n",
       "      <th>2</th>\n",
       "      <td>1G6DF8E5XD0539625</td>\n",
       "      <td>2010</td>\n",
       "      <td>Violet</td>\n",
       "      <td>Toyota</td>\n",
       "    </tr>\n",
       "    <tr>\n",
       "      <th>4</th>\n",
       "      <td>1GYS4KEF8DR451419</td>\n",
       "      <td>2010</td>\n",
       "      <td>Puce</td>\n",
       "      <td>Lexus</td>\n",
       "    </tr>\n",
       "    <tr>\n",
       "      <th>8</th>\n",
       "      <td>WAUEFAFL5CN254707</td>\n",
       "      <td>2007</td>\n",
       "      <td>Goldenrod</td>\n",
       "      <td>Mazda</td>\n",
       "    </tr>\n",
       "  </tbody>\n",
       "</table>\n",
       "</div>"
      ],
      "text/plain": [
       "                  id  modelo      color   marca\n",
       "0  1C4PJLAB5EW037286    2001      Green   Dodge\n",
       "2  1G6DF8E5XD0539625    2010     Violet  Toyota\n",
       "4  1GYS4KEF8DR451419    2010       Puce   Lexus\n",
       "8  WAUEFAFL5CN254707    2007  Goldenrod   Mazda"
      ]
     },
     "execution_count": 19,
     "metadata": {},
     "output_type": "execute_result"
    }
   ],
   "source": [
    "df[df[\"modelo\"]>1999]"
   ]
  },
  {
   "cell_type": "code",
   "execution_count": null,
   "id": "1755c0e1",
   "metadata": {},
   "outputs": [],
   "source": []
  }
 ],
 "metadata": {
  "kernelspec": {
   "display_name": "Python 3 (ipykernel)",
   "language": "python",
   "name": "python3"
  },
  "language_info": {
   "codemirror_mode": {
    "name": "ipython",
    "version": 3
   },
   "file_extension": ".py",
   "mimetype": "text/x-python",
   "name": "python",
   "nbconvert_exporter": "python",
   "pygments_lexer": "ipython3",
   "version": "3.10.7"
  }
 },
 "nbformat": 4,
 "nbformat_minor": 5
}
